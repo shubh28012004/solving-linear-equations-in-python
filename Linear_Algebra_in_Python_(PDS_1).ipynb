{
  "nbformat": 4,
  "nbformat_minor": 0,
  "metadata": {
    "colab": {
      "provenance": [],
      "authorship_tag": "ABX9TyN97hcsSjgYtmcZ1pH6PV9Q",
      "include_colab_link": true
    },
    "kernelspec": {
      "name": "python3",
      "display_name": "Python 3"
    },
    "language_info": {
      "name": "python"
    }
  },
  "cells": [
    {
      "cell_type": "markdown",
      "metadata": {
        "id": "view-in-github",
        "colab_type": "text"
      },
      "source": [
        "<a href=\"https://colab.research.google.com/github/shubh28012004/solving-linear-equations-in-python/blob/main/Linear_Algebra_in_Python_(PDS_1).ipynb\" target=\"_parent\"><img src=\"https://colab.research.google.com/assets/colab-badge.svg\" alt=\"Open In Colab\"/></a>"
      ]
    },
    {
      "cell_type": "markdown",
      "source": [
        "**Pandas is the library that is used to make array **"
      ],
      "metadata": {
        "id": "u6-5w5-GI2uO"
      }
    },
    {
      "cell_type": "code",
      "execution_count": 3,
      "metadata": {
        "id": "B1XtNtK2Iv56"
      },
      "outputs": [],
      "source": [
        "import numpy as np\n",
        "import matplotlib.pyplot as plt"
      ]
    },
    {
      "cell_type": "markdown",
      "source": [
        " **Inializing Array**"
      ],
      "metadata": {
        "id": "KGeFx5-1JaL3"
      }
    },
    {
      "cell_type": "code",
      "source": [
        "a = np.array([1,2,3])\n",
        "print(a.shape) #printnp.shape(a)"
      ],
      "metadata": {
        "colab": {
          "base_uri": "https://localhost:8080/"
        },
        "id": "iWPyYSzzJgW0",
        "outputId": "7433e7eb-a590-4ced-b149-2c70a07e8bd6"
      },
      "execution_count": 4,
      "outputs": [
        {
          "output_type": "stream",
          "name": "stdout",
          "text": [
            "(3,)\n"
          ]
        }
      ]
    },
    {
      "cell_type": "code",
      "source": [
        "b = np.array([[1,2,3],[5,6,7]]) #2D array\n",
        "print(b.shape)"
      ],
      "metadata": {
        "colab": {
          "base_uri": "https://localhost:8080/"
        },
        "id": "fxblf8iaJt4v",
        "outputId": "e96d2d83-70e0-4001-88ee-8fb8e90164a2"
      },
      "execution_count": 6,
      "outputs": [
        {
          "output_type": "stream",
          "name": "stdout",
          "text": [
            "(2, 3)\n"
          ]
        }
      ]
    },
    {
      "cell_type": "markdown",
      "source": [
        "**NumPy Array Stacking**"
      ],
      "metadata": {
        "id": "hmIiy7-AKByW"
      }
    },
    {
      "cell_type": "code",
      "source": [
        "x = np.array([[1,2,3]])\n",
        "y = np.array([[4,5,6]])\n",
        "print(np.hstack((x,y)))\n",
        "print(np.hstack((x,y)).shape)\n",
        "print(np.vstack((x,y)))\n",
        "print(np.vstack((x,y)).shape)\n"
      ],
      "metadata": {
        "colab": {
          "base_uri": "https://localhost:8080/"
        },
        "id": "oXpg0m9cJ39w",
        "outputId": "e6d10c78-342b-4434-ebe8-c1e74acbab1d"
      },
      "execution_count": 9,
      "outputs": [
        {
          "output_type": "stream",
          "name": "stdout",
          "text": [
            "[[1 2 3 4 5 6]]\n",
            "(1, 6)\n",
            "[[1 2 3]\n",
            " [4 5 6]]\n",
            "(2, 3)\n"
          ]
        }
      ]
    },
    {
      "cell_type": "markdown",
      "source": [
        "**3D Array**"
      ],
      "metadata": {
        "id": "bO3Ii2OCKqYf"
      }
    },
    {
      "cell_type": "code",
      "source": [
        "k = np.array([[[1,2,3],[4,5,6]],[[3,4,5],[7,8,9]]]) # (2 - no of blocks , 2 - no of rows , 3 - no of columns )\n",
        "print(k.shape)\n",
        "print(k)"
      ],
      "metadata": {
        "colab": {
          "base_uri": "https://localhost:8080/"
        },
        "id": "JqFgE4XFKssB",
        "outputId": "d91c7b07-3244-433e-f615-359ae723539a"
      },
      "execution_count": 12,
      "outputs": [
        {
          "output_type": "stream",
          "name": "stdout",
          "text": [
            "(2, 2, 3)\n",
            "[[[1 2 3]\n",
            "  [4 5 6]]\n",
            "\n",
            " [[3 4 5]\n",
            "  [7 8 9]]]\n"
          ]
        }
      ]
    },
    {
      "cell_type": "markdown",
      "source": [
        "There are three 2D Array in image having 3 channel -  **RGB**"
      ],
      "metadata": {
        "id": "qXGPKLyoLpS1"
      }
    },
    {
      "cell_type": "markdown",
      "source": [
        "**Dot Product**"
      ],
      "metadata": {
        "id": "XSzhzxHOL6VA"
      }
    },
    {
      "cell_type": "code",
      "source": [
        "A=np.array([[1,2,3]])\n",
        "B=np.array([[4,5,6]])\n",
        "print(A.shape)\n",
        "print(B.shape)\n",
        "\n",
        "result = np.dot(A,B.T) #Dot product  (b.t TRANSPOSE OF B )\n",
        "print(result)"
      ],
      "metadata": {
        "colab": {
          "base_uri": "https://localhost:8080/"
        },
        "id": "RShzTf7FLpB_",
        "outputId": "20edadba-38e0-4026-ba16-b3316ed55ba3"
      },
      "execution_count": 14,
      "outputs": [
        {
          "output_type": "stream",
          "name": "stdout",
          "text": [
            "(1, 3)\n",
            "(1, 3)\n",
            "[[32]]\n"
          ]
        }
      ]
    },
    {
      "cell_type": "code",
      "source": [
        "A = np.array([[1,2],[3,4]])\n",
        "B = np.array([[7,5],[2,3]])\n",
        "print(np.inner(A,B))  # ALSO WE CAN USE np.dot(A,B)\n",
        "print(np.dot(A,B.T))\n",
        "print(np.matmul(A,B))"
      ],
      "metadata": {
        "colab": {
          "base_uri": "https://localhost:8080/"
        },
        "id": "5YTgcKLyM88I",
        "outputId": "2cf2ca65-1579-4079-d8c3-77c128d642a8"
      },
      "execution_count": 19,
      "outputs": [
        {
          "output_type": "stream",
          "name": "stdout",
          "text": [
            "[[17  8]\n",
            " [41 18]]\n",
            "[[17  8]\n",
            " [41 18]]\n",
            "[[11 11]\n",
            " [29 27]]\n"
          ]
        }
      ]
    },
    {
      "cell_type": "markdown",
      "source": [
        "**FOR NORMAL MULTIPLICATION**"
      ],
      "metadata": {
        "id": "hvEE9rCsNlyZ"
      }
    },
    {
      "cell_type": "code",
      "source": [
        "A = np.array([[1,2],[3,4]])\n",
        "B = np.array([[7,5],[2,3]])\n",
        "print(np.matmul(A,B))\n",
        "print(np.dot(A,B))"
      ],
      "metadata": {
        "colab": {
          "base_uri": "https://localhost:8080/"
        },
        "id": "75R9bi9cNq5m",
        "outputId": "4a5e5cd4-0855-4e41-c8af-a64019cc7313"
      },
      "execution_count": 20,
      "outputs": [
        {
          "output_type": "stream",
          "name": "stdout",
          "text": [
            "[[11 11]\n",
            " [29 27]]\n",
            "[[11 11]\n",
            " [29 27]]\n"
          ]
        }
      ]
    },
    {
      "cell_type": "markdown",
      "source": [
        "**Matric Inverse**"
      ],
      "metadata": {
        "id": "5ORCwy7sOS58"
      }
    },
    {
      "cell_type": "code",
      "source": [
        "from numpy.linalg import inv\n",
        "a=np.array([[1,2],[3,4]] # Determine for taking out inverse should be non zero so we will take a matrix of any order rather than 1\n",
        "ainv = inv(a)\n",
        "print(ainv)"
      ],
      "metadata": {
        "colab": {
          "base_uri": "https://localhost:8080/"
        },
        "id": "X_IKYe1eOSrr",
        "outputId": "18878985-2f3e-418a-ea3c-af540a655812"
      },
      "execution_count": 21,
      "outputs": [
        {
          "output_type": "stream",
          "name": "stdout",
          "text": [
            "[[-2.   1. ]\n",
            " [ 1.5 -0.5]]\n"
          ]
        }
      ]
    },
    {
      "cell_type": "markdown",
      "source": [
        "**Determinant of a 2D Array **"
      ],
      "metadata": {
        "id": "7GGfrz4zO8zZ"
      }
    },
    {
      "cell_type": "code",
      "source": [
        "A = np.array([[1,7],[6,9]])\n",
        "print(np.linalg.det(A))"
      ],
      "metadata": {
        "colab": {
          "base_uri": "https://localhost:8080/"
        },
        "id": "AUusPnUrO_6y",
        "outputId": "5d1219d5-77cc-4eaf-b337-8b9cf624d864"
      },
      "execution_count": 23,
      "outputs": [
        {
          "output_type": "stream",
          "name": "stdout",
          "text": [
            "-33.0\n"
          ]
        }
      ]
    },
    {
      "cell_type": "markdown",
      "source": [
        "**Linear Algebra Model**\n",
        "Here's a sample dataset\n",
        "\n"
      ],
      "metadata": {
        "id": "RD3sSK4BQyTU"
      }
    },
    {
      "cell_type": "code",
      "source": [
        "X=np.array([[1,2],[1,3],[1,4],[1,5],[1,6]])\n",
        "Y=np.array([60,75,82,90,95])\n",
        "\n",
        "H=inv(np.dot(X.T,X)) #H is MOORE PENROSE INVERSE\n",
        "theta = np.dot(np.dot(H,X.T),Y) #or\n",
        "theta = np.linalg.lstsq(X,Y)[0] # [0] is done to avoid tuples\n",
        "print(theta)"
      ],
      "metadata": {
        "colab": {
          "base_uri": "https://localhost:8080/"
        },
        "id": "ktizxOcjQ-w2",
        "outputId": "ae3fff94-8067-4cb9-cbab-5a98a1ac1266"
      },
      "execution_count": 31,
      "outputs": [
        {
          "output_type": "stream",
          "name": "stdout",
          "text": [
            "[46.4  8.5]\n"
          ]
        },
        {
          "output_type": "stream",
          "name": "stderr",
          "text": [
            "<ipython-input-31-b8f3b171d9f8>:6: FutureWarning: `rcond` parameter will change to the default of machine precision times ``max(M, N)`` where M and N are the input matrix dimensions.\n",
            "To use the future default and silence this warning we advise to pass `rcond=None`, to keep using the old, explicitly pass `rcond=-1`.\n",
            "  theta = np.linalg.lstsq(X,Y)[0] # [0] is done to avoid tuples\n"
          ]
        }
      ]
    },
    {
      "cell_type": "markdown",
      "source": [
        "Solve system of linear eqns"
      ],
      "metadata": {
        "id": "5yB5I4a_TGHK"
      }
    },
    {
      "cell_type": "code",
      "source": [
        "A=np.array([[2,4],[6,8]])\n",
        "B=np.array([5,6])\n",
        "\n",
        "#solve the system of linear eqns as Ax=B\n",
        "x=np.linalg.solve(A,B)\n",
        "print(x)"
      ],
      "metadata": {
        "colab": {
          "base_uri": "https://localhost:8080/"
        },
        "id": "ig0LR-S7TJHw",
        "outputId": "59055b91-23b8-4ea8-be0b-a70cf4b286c8"
      },
      "execution_count": 29,
      "outputs": [
        {
          "output_type": "stream",
          "name": "stdout",
          "text": [
            "[-2.    2.25]\n"
          ]
        }
      ]
    },
    {
      "cell_type": "markdown",
      "source": [
        "Norms and distances in python"
      ],
      "metadata": {
        "id": "nnwHyEoEUW8N"
      }
    },
    {
      "cell_type": "code",
      "source": [
        "import numpy as np\n",
        "a=np.array([1,2,3])\n",
        "euclidiean_form = np.linalg.norm(a)\n",
        "print(\"Euclidiean norm \" , euclidiean_form)"
      ],
      "metadata": {
        "colab": {
          "base_uri": "https://localhost:8080/"
        },
        "id": "NhsrtJwyVsSi",
        "outputId": "f5e94081-18ae-4451-bfcb-eedf03d2655a"
      },
      "execution_count": 33,
      "outputs": [
        {
          "output_type": "stream",
          "name": "stdout",
          "text": [
            "Euclidiean norm  3.7416573867739413\n"
          ]
        }
      ]
    },
    {
      "cell_type": "code",
      "source": [
        "b = np.array([[1,2],[3,4]])\n",
        "l2_form = np.linalg.norm(b)\n",
        "print(\"Euclidiean norm \" , l2_form)"
      ],
      "metadata": {
        "colab": {
          "base_uri": "https://localhost:8080/"
        },
        "id": "xvzYk0raV_Kf",
        "outputId": "37b44935-7aad-4279-cd70-632fa0d443a2"
      },
      "execution_count": 34,
      "outputs": [
        {
          "output_type": "stream",
          "name": "stdout",
          "text": [
            "Euclidiean norm  5.477225575051661\n"
          ]
        }
      ]
    },
    {
      "cell_type": "markdown",
      "source": [
        "Distance between 2 points"
      ],
      "metadata": {
        "id": "CV-29JzLWO0-"
      }
    },
    {
      "cell_type": "code",
      "source": [
        "from scipy.spatial import distance  #scientific python library\n",
        "import numpy as np\n",
        "#compute the l2 form between 2 points\n",
        "point1 = np.array([1,2,3])\n",
        "point2=np.array([4,5,6])\n",
        "euclidean_distance = distance.euclidean(point1,point2)\n",
        "print(\"Euclidean distance is \",euclidean_distance )"
      ],
      "metadata": {
        "colab": {
          "base_uri": "https://localhost:8080/"
        },
        "id": "FSvNKW3OWRXn",
        "outputId": "312e6fd9-60c2-4b71-b304-c9221649afea"
      },
      "execution_count": 35,
      "outputs": [
        {
          "output_type": "stream",
          "name": "stdout",
          "text": [
            "Euclidean distance is  5.196152422706632\n"
          ]
        }
      ]
    },
    {
      "cell_type": "code",
      "source": [
        "manhattan_distance = distance.cityblock(point1,point2)\n",
        "print(\"Manhattan ditance : \",manhattan_distance)"
      ],
      "metadata": {
        "colab": {
          "base_uri": "https://localhost:8080/"
        },
        "id": "rawHxjwWXCdD",
        "outputId": "0bbf6997-a33d-4a79-b297-7079fada6c91"
      },
      "execution_count": 36,
      "outputs": [
        {
          "output_type": "stream",
          "name": "stdout",
          "text": [
            "Manhattan ditance :  9\n"
          ]
        }
      ]
    },
    {
      "cell_type": "markdown",
      "source": [
        "Cosine distance between 2 vectors"
      ],
      "metadata": {
        "id": "TW-4MJg2XlnC"
      }
    },
    {
      "cell_type": "code",
      "source": [
        "vector1 = np.array([1,2,3])\n",
        "vector2 = np.array([4,5,6])\n",
        "cosine_distance = distance.cosine(vector1,vector2)\n",
        "print(\"Cosine direction : \" , cosine_distance)"
      ],
      "metadata": {
        "colab": {
          "base_uri": "https://localhost:8080/"
        },
        "id": "zOoQPRGwYW8a",
        "outputId": "ef874945-72d6-4d63-db3f-acc09fa3e4b3"
      },
      "execution_count": 38,
      "outputs": [
        {
          "output_type": "stream",
          "name": "stdout",
          "text": [
            "Cosine direction :  0.0253681538029239\n"
          ]
        }
      ]
    }
  ]
}